{
 "cells": [
  {
   "cell_type": "markdown",
   "metadata": {},
   "source": [
    "# Example – fnding teen market segments using k-means clustering"
   ]
  },
  {
   "cell_type": "code",
   "execution_count": 1,
   "metadata": {
    "collapsed": true
   },
   "outputs": [],
   "source": [
    "import math\n",
    "import numpy as np\n",
    "import pandas as pd\n",
    "from datetime import datetime\n",
    "\n",
    "import seaborn as sns\n",
    "import matplotlib.pyplot as plt\n",
    "%matplotlib inline \n",
    "plt.style.use('seaborn-whitegrid')\n",
    "\n",
    "from sklearn.cluster import KMeans\n",
    "from sklearn.metrics import classification_report,confusion_matrix"
   ]
  },
  {
   "cell_type": "markdown",
   "metadata": {},
   "source": [
    "# Step 1 – collecting data"
   ]
  },
  {
   "cell_type": "code",
   "execution_count": 2,
   "metadata": {},
   "outputs": [
    {
     "name": "stdout",
     "output_type": "stream",
     "text": [
      "<class 'pandas.core.frame.DataFrame'>\n",
      "RangeIndex: 30000 entries, 0 to 29999\n",
      "Data columns (total 40 columns):\n",
      "gradyear        30000 non-null int64\n",
      "gender          27276 non-null object\n",
      "age             24914 non-null float64\n",
      "friends         30000 non-null int64\n",
      "basketball      30000 non-null int64\n",
      "football        30000 non-null int64\n",
      "soccer          30000 non-null int64\n",
      "softball        30000 non-null int64\n",
      "volleyball      30000 non-null int64\n",
      "swimming        30000 non-null int64\n",
      "cheerleading    30000 non-null int64\n",
      "baseball        30000 non-null int64\n",
      "tennis          30000 non-null int64\n",
      "sports          30000 non-null int64\n",
      "cute            30000 non-null int64\n",
      "sex             30000 non-null int64\n",
      "sexy            30000 non-null int64\n",
      "hot             30000 non-null int64\n",
      "kissed          30000 non-null int64\n",
      "dance           30000 non-null int64\n",
      "band            30000 non-null int64\n",
      "marching        30000 non-null int64\n",
      "music           30000 non-null int64\n",
      "rock            30000 non-null int64\n",
      "god             30000 non-null int64\n",
      "church          30000 non-null int64\n",
      "jesus           30000 non-null int64\n",
      "bible           30000 non-null int64\n",
      "hair            30000 non-null int64\n",
      "dress           30000 non-null int64\n",
      "blonde          30000 non-null int64\n",
      "mall            30000 non-null int64\n",
      "shopping        30000 non-null int64\n",
      "clothes         30000 non-null int64\n",
      "hollister       30000 non-null int64\n",
      "abercrombie     30000 non-null int64\n",
      "die             30000 non-null int64\n",
      "death           30000 non-null int64\n",
      "drunk           30000 non-null int64\n",
      "drugs           30000 non-null int64\n",
      "dtypes: float64(1), int64(38), object(1)\n",
      "memory usage: 9.2+ MB\n"
     ]
    }
   ],
   "source": [
    "#The data was sampled evenly across four high school graduation years (2006 through 2009) \n",
    "#representing the senior, junior, sophomore, and freshman classes at the time of data collection. \n",
    "df = pd.read_csv('10 snsdata.csv')\n",
    "df.info()"
   ]
  },
  {
   "cell_type": "markdown",
   "metadata": {},
   "source": [
    "# Step 2 – exploring and preparing the data"
   ]
  },
  {
   "cell_type": "code",
   "execution_count": 21,
   "metadata": {},
   "outputs": [],
   "source": [
    "#gender - dummy coding missing values \n",
    "df['gender_female'] = df['gender'].apply(lambda x: 1 if x == 'F' else 0)\n",
    "df['gender_male'] = df['gender'].apply(lambda x: 1 if x == 'M' else 0)\n",
    "df['gender_NOgender'] = df['gender'].apply(lambda x: 1 if x in [np.NaN] else 0)"
   ]
  },
  {
   "cell_type": "code",
   "execution_count": 35,
   "metadata": {},
   "outputs": [
    {
     "data": {
      "text/html": [
       "<div>\n",
       "<style>\n",
       "    .dataframe thead tr:only-child th {\n",
       "        text-align: right;\n",
       "    }\n",
       "\n",
       "    .dataframe thead th {\n",
       "        text-align: left;\n",
       "    }\n",
       "\n",
       "    .dataframe tbody tr th {\n",
       "        vertical-align: top;\n",
       "    }\n",
       "</style>\n",
       "<table border=\"1\" class=\"dataframe\">\n",
       "  <thead>\n",
       "    <tr style=\"text-align: right;\">\n",
       "      <th></th>\n",
       "      <th>gradyear</th>\n",
       "      <th>age2</th>\n",
       "    </tr>\n",
       "  </thead>\n",
       "  <tbody>\n",
       "    <tr>\n",
       "      <th>0</th>\n",
       "      <td>2006</td>\n",
       "      <td>19.137241</td>\n",
       "    </tr>\n",
       "    <tr>\n",
       "      <th>1</th>\n",
       "      <td>2007</td>\n",
       "      <td>18.391459</td>\n",
       "    </tr>\n",
       "    <tr>\n",
       "      <th>2</th>\n",
       "      <td>2008</td>\n",
       "      <td>17.523867</td>\n",
       "    </tr>\n",
       "    <tr>\n",
       "      <th>3</th>\n",
       "      <td>2009</td>\n",
       "      <td>16.876025</td>\n",
       "    </tr>\n",
       "  </tbody>\n",
       "</table>\n",
       "</div>"
      ],
      "text/plain": [
       "   gradyear       age2\n",
       "0      2006  19.137241\n",
       "1      2007  18.391459\n",
       "2      2008  17.523867\n",
       "3      2009  16.876025"
      ]
     },
     "execution_count": 35,
     "metadata": {},
     "output_type": "execute_result"
    }
   ],
   "source": [
    "#age - imputing the missing values\n",
    "temp = pd.DataFrame(df.groupby(['gradyear'], axis=0, as_index=False)['age'].mean())\n",
    "\n",
    "def age_impute (cols):\n",
    "    x = cols[0]\n",
    "    y = cols[1]\n",
    "    if x == 2006 and y in [np.NaN]: return 19.13\n",
    "    elif x == 2007 and y in [np.NaN]: return 18.39\n",
    "    elif x == 2008 and y in [np.NaN]: return 17.52\n",
    "    elif x == 2009 and y in [np.NaN]: return 16.87\n",
    "    else: return y\n",
    "\n",
    "df['age2'] = df[['gradyear','age']].apply(age_impute,axis=1)\n",
    "temp = pd.DataFrame(df.groupby(['gradyear'], axis=0, as_index=False)['age2'].mean())\n",
    "temp"
   ]
  },
  {
   "cell_type": "markdown",
   "metadata": {},
   "source": [
    "# Step 3 – training a model on the data"
   ]
  },
  {
   "cell_type": "code",
   "execution_count": 39,
   "metadata": {},
   "outputs": [
    {
     "data": {
      "text/plain": [
       "KMeans(algorithm='auto', copy_x=True, init='k-means++', max_iter=300,\n",
       "    n_clusters=5, n_init=10, n_jobs=1, precompute_distances='auto',\n",
       "    random_state=None, tol=0.0001, verbose=0)"
      ]
     },
     "execution_count": 39,
     "metadata": {},
     "output_type": "execute_result"
    }
   ],
   "source": [
    "kmeans = KMeans(n_clusters=5)\n",
    "x = df.drop(['gradyear', 'gender', 'age', 'friends', 'gender_female', 'gender_male', 'gender_NOgender', 'age2'],axis=1)\n",
    "kmeans.fit(x)"
   ]
  },
  {
   "cell_type": "markdown",
   "metadata": {},
   "source": [
    "# Step 4 – evaluating model performance"
   ]
  },
  {
   "cell_type": "code",
   "execution_count": 66,
   "metadata": {},
   "outputs": [
    {
     "data": {
      "text/plain": [
       "<matplotlib.axes._subplots.AxesSubplot at 0x235cace35c0>"
      ]
     },
     "execution_count": 66,
     "metadata": {},
     "output_type": "execute_result"
    },
    {
     "data": {
      "image/png": "[encoded data removed]",
      "text/plain": [
       "<matplotlib.figure.Figure at 0x235cacc7898>"
      ]
     },
     "metadata": {},
     "output_type": "display_data"
    }
   ],
   "source": [
    "y_pred = pd.DataFrame(kmeans.labels_)\n",
    "y_pred.columns = ['labels']\n",
    "sns.countplot('labels',data=y_pred,palette='inferno')"
   ]
  },
  {
   "cell_type": "code",
   "execution_count": 67,
   "metadata": {},
   "outputs": [
    {
     "data": {
      "text/plain": [
       "array([[  2.97090352e-01,   2.72588055e-01,   2.00612557e-01,\n",
       "          1.83767228e-01,   1.57733538e-01,   1.54670750e-01,\n",
       "          1.27105666e-01,   1.02603369e-01,   9.34150077e-02,\n",
       "          1.80704441e-01,   3.75191424e-01,   2.05206738e-01,\n",
       "          1.62327718e-01,   1.54670750e-01,   9.80091884e-02,\n",
       "          3.73660031e-01,   4.02756508e-01,   3.98162328e-02,\n",
       "          1.00765697e+00,   3.00153139e-01,   6.22052067e+00,\n",
       "          1.40581930e+00,   1.22205207e+00,   2.67993874e-01,\n",
       "          4.31852986e-01,   1.51607963e-01,   1.16385911e-01,\n",
       "          2.52679939e-01,   3.87442573e-01,   2.32771822e-01,\n",
       "          6.27871363e-02,   4.44104135e-02,   4.11944870e-01,\n",
       "          3.15467075e-01,   1.39356815e-01,   7.65696784e-02],\n",
       "       [  5.99569892e-01,   5.34623656e-01,   4.35268817e-01,\n",
       "          2.91612903e-01,   2.60645161e-01,   2.71397849e-01,\n",
       "          2.13333333e-01,   2.56774194e-01,   1.71612903e-01,\n",
       "          3.90537634e-01,   8.54623656e-01,   1.48602151e+00,\n",
       "          3.50537634e-01,   2.88602151e-01,   7.29892473e-01,\n",
       "          6.42150538e-01,   1.38580645e+00,   1.67741935e-01,\n",
       "          2.54322581e+00,   9.21720430e-01,   6.92473118e-01,\n",
       "          4.44301075e-01,   1.42365591e-01,   3.61290323e-02,\n",
       "          2.61935484e+00,   2.77419355e-01,   4.84731183e-01,\n",
       "          6.98064516e-01,   6.68817204e-01,   5.43655914e-01,\n",
       "          1.80215054e-01,   1.54838710e-01,   6.28387097e-01,\n",
       "          2.76989247e-01,   3.32903226e-01,   3.73333333e-01],\n",
       "       [  2.31985736e-01,   2.20434901e-01,   2.03147409e-01,\n",
       "          1.47525098e-01,   1.30431412e-01,   1.20237218e-01,\n",
       "          9.25617272e-02,   9.23679212e-02,   7.90728323e-02,\n",
       "          1.16981278e-01,   2.56715377e-01,   9.47323540e-02,\n",
       "          1.17717741e-01,   1.06515756e-01,   4.69785651e-02,\n",
       "          2.08612737e-01,   1.95627738e-01,   2.90708942e-02,\n",
       "          5.57812318e-01,   1.76247141e-01,   2.96523121e-01,\n",
       "          1.92643126e-01,   8.12434590e-02,   1.34888949e-02,\n",
       "          2.14737005e-01,   8.59335633e-02,   5.09709679e-02,\n",
       "          2.09000349e-01,   3.10244583e-01,   1.06825846e-01,\n",
       "          5.84131168e-02,   4.01565952e-02,   1.35043994e-01,\n",
       "          9.25229660e-02,   6.29869375e-02,   3.18617001e-02],\n",
       "       [  0.00000000e+00,   2.00000000e+00,   0.00000000e+00,\n",
       "          0.00000000e+00,   0.00000000e+00,   1.00000000e+00,\n",
       "          0.00000000e+00,   0.00000000e+00,   0.00000000e+00,\n",
       "          0.00000000e+00,   1.00000000e+00,   2.20000000e+01,\n",
       "          1.00000000e+00,   0.00000000e+00,   0.00000000e+00,\n",
       "          1.00000000e+00,   1.00000000e+00,   0.00000000e+00,\n",
       "          0.00000000e+00,   1.00000000e+00,   1.00000000e+01,\n",
       "          0.00000000e+00,   1.00000000e+00,   0.00000000e+00,\n",
       "          1.20000000e+01,   2.00000000e+00,   3.27000000e+02,\n",
       "          0.00000000e+00,   0.00000000e+00,   1.00000000e+00,\n",
       "          0.00000000e+00,   0.00000000e+00,   6.00000000e+00,\n",
       "          6.00000000e+00,   6.00000000e+00,   0.00000000e+00],\n",
       "       [  3.65793781e-01,   3.75613748e-01,   2.44680851e-01,\n",
       "          1.89852700e-01,   1.80032733e-01,   1.61211129e-01,\n",
       "          1.89852700e-01,   8.26513912e-02,   9.81996727e-02,\n",
       "          1.26841244e-01,   6.79214403e-01,   1.85761047e-01,\n",
       "          2.26677578e-01,   2.27495908e-01,   1.00654664e-01,\n",
       "          4.61129296e+00,   3.72340426e-01,   4.25531915e-02,\n",
       "          9.59901800e-01,   3.37970540e-01,   5.13093290e-01,\n",
       "          4.28805237e-01,   1.11292962e-01,   2.70049100e-02,\n",
       "          6.16202946e-01,   2.99509002e-01,   1.00654664e-01,\n",
       "          4.42716858e-01,   6.36661211e-01,   2.30769231e-01,\n",
       "          1.05564648e-01,   9.00163666e-02,   2.47954173e-01,\n",
       "          1.50572831e-01,   1.17021277e-01,   5.97381342e-02]])"
      ]
     },
     "execution_count": 67,
     "metadata": {},
     "output_type": "execute_result"
    }
   ],
   "source": [
    "#For a more in-depth look at the clusters, we can examine the coordinates of the cluster centroids \n",
    "kmeans.cluster_centers"
   ]
  },
  {
   "cell_type": "code",
   "execution_count": null,
   "metadata": {
    "collapsed": true
   },
   "outputs": [],
   "source": []
  }
 ],
 "metadata": {
  "kernelspec": {
   "display_name": "Python 3",
   "language": "python",
   "name": "python3"
  },
  "language_info": {
   "codemirror_mode": {
    "name": "ipython",
    "version": 3
   },
   "file_extension": ".py",
   "mimetype": "text/x-python",
   "name": "python",
   "nbconvert_exporter": "python",
   "pygments_lexer": "ipython3",
   "version": "3.6.2"
  }
 },
 "nbformat": 4,
 "nbformat_minor": 2
}
